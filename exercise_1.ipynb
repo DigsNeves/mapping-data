{
  "nbformat": 4,
  "nbformat_minor": 0,
  "metadata": {
    "colab": {
      "name": "exercise_1.ipynb",
      "provenance": [],
      "authorship_tag": "ABX9TyO/2z+5tTH3Gf73zW7pcGmk",
      "include_colab_link": true
    },
    "kernelspec": {
      "name": "python3",
      "display_name": "Python 3"
    },
    "language_info": {
      "name": "python"
    }
  },
  "cells": [
    {
      "cell_type": "markdown",
      "metadata": {
        "id": "view-in-github",
        "colab_type": "text"
      },
      "source": [
        "<a href=\"https://colab.research.google.com/github/DigsNeves/mapping-data/blob/main/exercise_1.ipynb\" target=\"_parent\"><img src=\"https://colab.research.google.com/assets/colab-badge.svg\" alt=\"Open In Colab\"/></a>"
      ]
    },
    {
      "cell_type": "code",
      "execution_count": 27,
      "metadata": {
        "id": "yrWi1c-xMz48"
      },
      "outputs": [],
      "source": [
        "import pandas as pd\n",
        "import json"
      ]
    },
    {
      "cell_type": "code",
      "source": [
        "wine_dataframe = pd.read_csv(\"wine_ratings.csv\")"
      ],
      "metadata": {
        "id": "DZAQ4TUaOKtX"
      },
      "execution_count": 28,
      "outputs": []
    },
    {
      "cell_type": "code",
      "source": [
        "austria_dataframe = wine_dataframe[wine_dataframe['region'] == \"Austria\"]"
      ],
      "metadata": {
        "id": "2OVOnE_hOaem"
      },
      "execution_count": 29,
      "outputs": []
    },
    {
      "cell_type": "code",
      "source": [
        "austria_dict = austria_dataframe[['name', 'rating']].to_dict()"
      ],
      "metadata": {
        "id": "IxQIAgBMOb9L"
      },
      "execution_count": 30,
      "outputs": []
    },
    {
      "cell_type": "code",
      "source": [
        "with open('austria_ratings.json', 'w') as my_file:\n",
        "  json.dump(austria_dict, my_file)"
      ],
      "metadata": {
        "id": "Q1cyGZwjQ_Eb"
      },
      "execution_count": 31,
      "outputs": []
    },
    {
      "cell_type": "code",
      "source": [
        ""
      ],
      "metadata": {
        "id": "8zUZWtToSG6u"
      },
      "execution_count": null,
      "outputs": []
    }
  ]
}